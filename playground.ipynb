{
 "cells": [
  {
   "cell_type": "code",
   "execution_count": 3,
   "metadata": {},
   "outputs": [
    {
     "data": {
      "text/html": [
       "<div>\n",
       "<style scoped>\n",
       "    .dataframe tbody tr th:only-of-type {\n",
       "        vertical-align: middle;\n",
       "    }\n",
       "\n",
       "    .dataframe tbody tr th {\n",
       "        vertical-align: top;\n",
       "    }\n",
       "\n",
       "    .dataframe thead th {\n",
       "        text-align: right;\n",
       "    }\n",
       "</style>\n",
       "<table border=\"1\" class=\"dataframe\">\n",
       "  <thead>\n",
       "    <tr style=\"text-align: right;\">\n",
       "      <th></th>\n",
       "      <th>video_id</th>\n",
       "      <th>label</th>\n",
       "      <th>label_name</th>\n",
       "      <th>split</th>\n",
       "    </tr>\n",
       "  </thead>\n",
       "  <tbody>\n",
       "    <tr>\n",
       "      <th>0</th>\n",
       "      <td>OxPnZzn1_L8_000883.mp4</td>\n",
       "      <td>scuba diving</td>\n",
       "      <td>NaN</td>\n",
       "      <td>NaN</td>\n",
       "    </tr>\n",
       "    <tr>\n",
       "      <th>1</th>\n",
       "      <td>snh7E7llb48_000070.mp4</td>\n",
       "      <td>dog bow-wow</td>\n",
       "      <td>NaN</td>\n",
       "      <td>NaN</td>\n",
       "    </tr>\n",
       "    <tr>\n",
       "      <th>2</th>\n",
       "      <td>eNb_niqtGeU_000177.mp4</td>\n",
       "      <td>yodelling</td>\n",
       "      <td>NaN</td>\n",
       "      <td>NaN</td>\n",
       "    </tr>\n",
       "    <tr>\n",
       "      <th>3</th>\n",
       "      <td>xXaVc4YqBNI_000018.mp4</td>\n",
       "      <td>playing bongo</td>\n",
       "      <td>NaN</td>\n",
       "      <td>NaN</td>\n",
       "    </tr>\n",
       "    <tr>\n",
       "      <th>4</th>\n",
       "      <td>qTRtT9yDl3s_000319.mp4</td>\n",
       "      <td>playing double bass</td>\n",
       "      <td>NaN</td>\n",
       "      <td>NaN</td>\n",
       "    </tr>\n",
       "  </tbody>\n",
       "</table>\n",
       "</div>"
      ],
      "text/plain": [
       "                 video_id                label  label_name  split\n",
       "0  OxPnZzn1_L8_000883.mp4         scuba diving         NaN    NaN\n",
       "1  snh7E7llb48_000070.mp4          dog bow-wow         NaN    NaN\n",
       "2  eNb_niqtGeU_000177.mp4            yodelling         NaN    NaN\n",
       "3  xXaVc4YqBNI_000018.mp4        playing bongo         NaN    NaN\n",
       "4  qTRtT9yDl3s_000319.mp4  playing double bass         NaN    NaN"
      ]
     },
     "execution_count": 3,
     "metadata": {},
     "output_type": "execute_result"
    }
   ],
   "source": [
    "import pandas as pd \n",
    "\n",
    "vggsound_df = pd.read_csv('/storage/slurm/zverev/datasets/vggsound/metadata/train.csv', header=None, names=['video_id', 'label', 'label_name', 'split'])\n",
    "vggsound_df.head()"
   ]
  },
  {
   "cell_type": "code",
   "execution_count": 4,
   "metadata": {},
   "outputs": [
    {
     "data": {
      "text/html": [
       "<div>\n",
       "<style scoped>\n",
       "    .dataframe tbody tr th:only-of-type {\n",
       "        vertical-align: middle;\n",
       "    }\n",
       "\n",
       "    .dataframe tbody tr th {\n",
       "        vertical-align: top;\n",
       "    }\n",
       "\n",
       "    .dataframe thead th {\n",
       "        text-align: right;\n",
       "    }\n",
       "</style>\n",
       "<table border=\"1\" class=\"dataframe\">\n",
       "  <thead>\n",
       "    <tr style=\"text-align: right;\">\n",
       "      <th></th>\n",
       "      <th>video_id</th>\n",
       "      <th>label</th>\n",
       "      <th>label_name</th>\n",
       "      <th>split</th>\n",
       "    </tr>\n",
       "  </thead>\n",
       "  <tbody>\n",
       "    <tr>\n",
       "      <th>0</th>\n",
       "      <td>glLQrEijrKg_000300.mp4</td>\n",
       "      <td>playing hammond organ</td>\n",
       "      <td>NaN</td>\n",
       "      <td>NaN</td>\n",
       "    </tr>\n",
       "    <tr>\n",
       "      <th>1</th>\n",
       "      <td>LDoXsip0BEQ_000177.mp4</td>\n",
       "      <td>parrot talking</td>\n",
       "      <td>NaN</td>\n",
       "      <td>NaN</td>\n",
       "    </tr>\n",
       "    <tr>\n",
       "      <th>2</th>\n",
       "      <td>6jiO0tPLK7U_000090.mp4</td>\n",
       "      <td>basketball bounce</td>\n",
       "      <td>NaN</td>\n",
       "      <td>NaN</td>\n",
       "    </tr>\n",
       "    <tr>\n",
       "      <th>3</th>\n",
       "      <td>cRlp5v9BHeE_000011.mp4</td>\n",
       "      <td>car passing by</td>\n",
       "      <td>NaN</td>\n",
       "      <td>NaN</td>\n",
       "    </tr>\n",
       "    <tr>\n",
       "      <th>4</th>\n",
       "      <td>WgZ8KAnnTb8_000030.mp4</td>\n",
       "      <td>rapping</td>\n",
       "      <td>NaN</td>\n",
       "      <td>NaN</td>\n",
       "    </tr>\n",
       "  </tbody>\n",
       "</table>\n",
       "</div>"
      ],
      "text/plain": [
       "                 video_id                  label  label_name  split\n",
       "0  glLQrEijrKg_000300.mp4  playing hammond organ         NaN    NaN\n",
       "1  LDoXsip0BEQ_000177.mp4         parrot talking         NaN    NaN\n",
       "2  6jiO0tPLK7U_000090.mp4      basketball bounce         NaN    NaN\n",
       "3  cRlp5v9BHeE_000011.mp4         car passing by         NaN    NaN\n",
       "4  WgZ8KAnnTb8_000030.mp4                rapping         NaN    NaN"
      ]
     },
     "execution_count": 4,
     "metadata": {},
     "output_type": "execute_result"
    }
   ],
   "source": [
    "vggsound_test_df = pd.read_csv('/storage/slurm/zverev/datasets/vggsound/metadata/test.csv', header=None, names=['video_id', 'label', 'label_name', 'split'])\n",
    "vggsound_test_df.head()"
   ]
  },
  {
   "cell_type": "code",
   "execution_count": 7,
   "metadata": {},
   "outputs": [],
   "source": [
    "import random\n",
    "\n",
    "labels = pd.read_csv('/storage/slurm/zverev/datasets/cav-mae/vggsound/metadata/class_labels_indices_vgg.csv')['display_name'].to_list()\n",
    "\n",
    "for i in range(len(vggsound_test_df)):\n",
    "    vggsound_test_df.loc[i, 'a'] = random.randint(0, 1)\n",
    "    vggsound_test_df.loc[i, 'v'] = random.randint(0, 1)\n",
    "    vggsound_test_df.loc[i, 'av'] = random.randint(0, 1)\n",
    "\n",
    "    vggsound_test_df.loc[i, 'av_label'] = vggsound_test_df.loc[i, 'label'] if vggsound_test_df.loc[i, 'av'] else random.choice(labels)\n",
    "    vggsound_test_df.loc[i, 'a_label'] = vggsound_test_df.loc[i, 'label'] if vggsound_test_df.loc[i, 'a'] else random.choice(labels)\n",
    "    vggsound_test_df.loc[i, 'v_label'] = vggsound_test_df.loc[i, 'label'] if vggsound_test_df.loc[i, 'v'] else random.choice(labels)\n"
   ]
  },
  {
   "cell_type": "code",
   "execution_count": 8,
   "metadata": {},
   "outputs": [],
   "source": [
    "vggsound_test_df[['video_id', 'label', 'a', 'a_label', 'v', 'v_label', 'av', 'av_label']].to_csv(\n",
    "    './test_evaluation_result.csv',\n",
    "    index=False,\n",
    ")"
   ]
  },
  {
   "cell_type": "code",
   "execution_count": 21,
   "metadata": {},
   "outputs": [
    {
     "data": {
      "text/plain": [
       "0        glLQrEijrKg_000300.mp4 | a(0.0) | v(0.0) | av(...\n",
       "1        LDoXsip0BEQ_000177.mp4 | a(0.0) | v(1.0) | av(...\n",
       "2        6jiO0tPLK7U_000090.mp4 | a(0.0) | v(0.0) | av(...\n",
       "3        cRlp5v9BHeE_000011.mp4 | a(1.0) | v(1.0) | av(...\n",
       "4        WgZ8KAnnTb8_000030.mp4 | a(0.0) | v(0.0) | av(...\n",
       "                               ...                        \n",
       "15441    ZPeG32vKQ3w_000030.mp4 | a(0.0) | v(1.0) | av(...\n",
       "15442    yyqydavJ4YQ_000201.mp4 | a(1.0) | v(1.0) | av(...\n",
       "15443    EJwOhdjhxXY_000012.mp4 | a(0.0) | v(1.0) | av(...\n",
       "15444    oYEzy8gH6q8_000030.mp4 | a(1.0) | v(1.0) | av(...\n",
       "15445    E75i9rHDHaE_000000.mp4 | a(1.0) | v(0.0) | av(...\n",
       "Length: 15446, dtype: object"
      ]
     },
     "execution_count": 21,
     "metadata": {},
     "output_type": "execute_result"
    }
   ],
   "source": [
    "t = pd.read_csv('./test_evaluation_result.csv')\n",
    "t[[\"video_id\", \"a\", \"v\", \"av\"]].apply(lambda x: f'{x[\"video_id\"]} | a({x[\"a\"]}) | v({x[\"v\"]}) | av({x[\"av\"]})', axis=1)"
   ]
  },
  {
   "cell_type": "markdown",
   "metadata": {},
   "source": [
    "# Create video ids"
   ]
  },
  {
   "cell_type": "code",
   "execution_count": 5,
   "metadata": {},
   "outputs": [],
   "source": [
    "vggsound_test_df['video_id'].map(lambda x: f'/storage/slurm/zverev/datasets/vggsound/video/{x}').to_csv(\n",
    "    '/storage/slurm/zverev/datasets/cav-mae/vggsound/metadata/test_video_ids.csv',\n",
    "    index=False,\n",
    "    header=False\n",
    ")"
   ]
  },
  {
   "cell_type": "markdown",
   "metadata": {},
   "source": [
    "# Create class labels csv"
   ]
  },
  {
   "cell_type": "markdown",
   "metadata": {},
   "source": []
  },
  {
   "cell_type": "code",
   "execution_count": 49,
   "metadata": {},
   "outputs": [],
   "source": [
    "import json\n",
    "\n",
    "with open('/storage/slurm/zverev/datasets/cav-mae/vggsound/metadata/vgg_train_cleaned.json', 'r') as f:\n",
    "    class_labels_indices = json.load(f)"
   ]
  },
  {
   "cell_type": "code",
   "execution_count": 50,
   "metadata": {},
   "outputs": [],
   "source": [
    "sample_to_index_name = vggsound_df.set_index('video_id')['label'].to_dict()"
   ]
  },
  {
   "cell_type": "code",
   "execution_count": 53,
   "metadata": {},
   "outputs": [],
   "source": [
    "labels_without_names = {el[\"labels\"].split(\"_\")[1]: f\"{el['video_id']}.mp4\" for el in class_labels_indices[\"data\"]}\n",
    "labels_without_names = list(sorted(labels_without_names.items(), key=lambda x: int(x[0])))\n",
    "class_labels_indices_list = [\n",
    "    (i, k, sample_to_index_name[v])\n",
    "    for i, (k, v) in enumerate(labels_without_names)\n",
    "]\n",
    "\n",
    "with open('/storage/slurm/zverev/datasets/cav-mae/vggsound/metadata/class_labels_indices_vgg.csv', 'w') as f:\n",
    "    f.write(f\"index,mid,display_name\\n\")\n",
    "    for idx, mid, display_name in class_labels_indices_list:\n",
    "        f.write(f'{idx},vgg_{mid},\"{display_name}\"\\n')\n"
   ]
  },
  {
   "cell_type": "code",
   "execution_count": 52,
   "metadata": {},
   "outputs": [
    {
     "data": {
      "text/plain": [
       "[('0', 'ZFGu9VHfJTQ_000010.mp4'),\n",
       " ('1', 'nXPXTlVQMdY_000060.mp4'),\n",
       " ('2', '9C9ZvXCkugI_000060.mp4'),\n",
       " ('3', 'PURNt0pI8kM_000030.mp4'),\n",
       " ('4', 'Nnq9kx_ExC4_000030.mp4'),\n",
       " ('5', 'FjSljEzfVBQ_000000.mp4'),\n",
       " ('6', 'DpTPi6VrHkk_000380.mp4'),\n",
       " ('7', 'LZ6e_2UoeKs_000030.mp4'),\n",
       " ('8', 'HG34Zw-1KTQ_000020.mp4'),\n",
       " ('9', 'lu8RDB26uPY_000120.mp4'),\n",
       " ('10', 'DOxEOSckwgY_000012.mp4'),\n",
       " ('11', '6-FJjggpSoo_000210.mp4'),\n",
       " ('12', 'F0IYjZN8ojA_000100.mp4'),\n",
       " ('13', '1bwsC4U9770_000024.mp4'),\n",
       " ('14', 'DCFMA7p2pvg_000030.mp4'),\n",
       " ('15', 'a0KnoH0oea8_000030.mp4'),\n",
       " ('16', '86Yv_7OjpkU_000260.mp4'),\n",
       " ('17', 'rLKM7pVf2cw_000018.mp4'),\n",
       " ('18', '31knLkskEZ0_000030.mp4'),\n",
       " ('19', '6ne6uXzUO8Y_000030.mp4'),\n",
       " ('20', 'DQWw45SlINk_000030.mp4'),\n",
       " ('21', '3WwxA3awisw_000030.mp4'),\n",
       " ('22', 'fELy1qpCJGY_000030.mp4'),\n",
       " ('23', 'R1hxewhwPZM_000080.mp4'),\n",
       " ('24', '_VSoekFxgMA_000018.mp4'),\n",
       " ('25', 'th-llPuuT9s_000490.mp4'),\n",
       " ('26', 'XMK0_CrGBS0_000090.mp4'),\n",
       " ('27', 'gJS4RTA_jeU_000065.mp4'),\n",
       " ('28', 'Gjhu9y-rboE_000100.mp4'),\n",
       " ('29', 'gl9tr4QHfDs_000030.mp4'),\n",
       " ('30', '4K5ODMXSXxo_000000.mp4'),\n",
       " ('31', 'G7G-KoNpLSA_000030.mp4'),\n",
       " ('32', 'zdp8wtOgVvs_000410.mp4'),\n",
       " ('33', 'bdnmXm-bYJw_000164.mp4'),\n",
       " ('34', 'dQ6VlkEiUL8_000338.mp4'),\n",
       " ('35', 'W7SCaJhNL54_000010.mp4'),\n",
       " ('36', 'GLf4drmpAvE_000030.mp4'),\n",
       " ('37', 'qZDVLR8slFw_000000.mp4'),\n",
       " ('38', '_kyD4DmInkI_000010.mp4'),\n",
       " ('39', 'zY0OZ6G934Q_000030.mp4'),\n",
       " ('40', 'v3l-gfW38qM_000030.mp4'),\n",
       " ('41', 'SrvYUM6hpHM_000006.mp4'),\n",
       " ('42', 'HgGAzBDE454_000115.mp4'),\n",
       " ('43', 'IvYuyWDwsPM_000030.mp4'),\n",
       " ('44', 'c8kNWrwsNmM_000000.mp4'),\n",
       " ('45', 'hSIHhAtur6g_000110.mp4'),\n",
       " ('46', 'AeJ4LiLaQMM_000260.mp4'),\n",
       " ('47', 'QcX7wYfuFwI_000091.mp4'),\n",
       " ('48', 'U_PEtRblQE0_000527.mp4'),\n",
       " ('49', 'PfT8GxIOSrY_000192.mp4'),\n",
       " ('50', 'uaU-_TooopI_000105.mp4'),\n",
       " ('51', 'KzKzBz2dV_c_000384.mp4'),\n",
       " ('52', '5eQtf04pkKA_000030.mp4'),\n",
       " ('53', 'x7SIFHD4RR8_000002.mp4'),\n",
       " ('54', '_uLODbI-K6E_000302.mp4'),\n",
       " ('55', 'zCohY_QSUZY_000080.mp4'),\n",
       " ('56', 'IpdpUArkLng_000075.mp4'),\n",
       " ('57', 'aPn32IeVM14_000108.mp4'),\n",
       " ('58', 'ftxxPQaZpQA_000350.mp4'),\n",
       " ('59', 'GVtgOr_aav8_000036.mp4'),\n",
       " ('60', 'c3NhPsPY_bw_000016.mp4'),\n",
       " ('61', 'VUjmyTdlMqM_000192.mp4'),\n",
       " ('62', 'rchSbzyjN8U_000259.mp4'),\n",
       " ('63', 'e79c_-_hVa8_000044.mp4'),\n",
       " ('64', 'WVDvWoWPIN8_000117.mp4'),\n",
       " ('65', '-PYr_EY1lss_000201.mp4'),\n",
       " ('66', 'Wr7txA8beFM_000060.mp4'),\n",
       " ('67', '-xxngcclOqM_000062.mp4'),\n",
       " ('68', 'En_gD-oAvS0_000136.mp4'),\n",
       " ('69', 'EkmxrZnUuc0_000014.mp4'),\n",
       " ('70', 'xvv0b_oMFOc_000269.mp4'),\n",
       " ('71', 'c1R4bJqrRAk_000002.mp4'),\n",
       " ('72', 'IUCWs3HjsgI_000756.mp4'),\n",
       " ('73', 'a0Ktlr3IOq4_000050.mp4'),\n",
       " ('74', 'Dz55Ziya48c_000038.mp4'),\n",
       " ('75', 'RF-ULxC-GkA_000040.mp4'),\n",
       " ('76', 'OEBgfeLoMIU_000216.mp4'),\n",
       " ('77', 'cTLHqxG3LpE_000170.mp4'),\n",
       " ('78', '0J84jXyMtkM_000019.mp4'),\n",
       " ('79', 'xc6wQeHlQEo_000037.mp4'),\n",
       " ('80', 'kOZh63g07PQ_000039.mp4'),\n",
       " ('81', '5DbV-QwcEiI_000000.mp4'),\n",
       " ('82', 'B9a-i2eZUv8_000070.mp4'),\n",
       " ('83', '2Xdpc8POnkc_000008.mp4'),\n",
       " ('84', 'nLOOmtvC9Hc_000066.mp4'),\n",
       " ('85', 'CfgHSXq0H5A_000012.mp4'),\n",
       " ('86', 'f8N81AxeoLs_000014.mp4'),\n",
       " ('87', '4G8y7GcfkTE_000230.mp4'),\n",
       " ('88', 'e7FSslM2bko_000020.mp4'),\n",
       " ('89', 'PYNzu3fZ-3Q_000271.mp4'),\n",
       " ('90', 'pw-RgDovdSM_000020.mp4'),\n",
       " ('91', 'MiM-UJtEPmI_000060.mp4'),\n",
       " ('92', '209LviaOJL0_000042.mp4'),\n",
       " ('93', 'f63A-_TzR8Y_000040.mp4'),\n",
       " ('94', 'M1ehqf0Hqpk_000075.mp4'),\n",
       " ('95', 'IdJTmZvbnUo_000030.mp4'),\n",
       " ('96', 'zCiv9gDWHjs_000151.mp4'),\n",
       " ('97', 'npWRooZqtpU_000001.mp4'),\n",
       " ('98', 'KkXmTbel7jU_000015.mp4'),\n",
       " ('99', '05sksuAixjY_000257.mp4'),\n",
       " ('100', '8f_y-saFZjo_000005.mp4'),\n",
       " ('101', 'koXAxbfapmE_000030.mp4'),\n",
       " ('102', '6UcuQgsHFCA_000142.mp4'),\n",
       " ('103', '-LAs_jk-2O8_000231.mp4'),\n",
       " ('104', 'HSsuZH_Hz6w_000070.mp4'),\n",
       " ('105', '1UUo5IdjEIg_000131.mp4'),\n",
       " ('106', '27ML4jzZrOw_000032.mp4'),\n",
       " ('107', 'vB8IzrGVR_U_000010.mp4'),\n",
       " ('108', 'YyFip6NRz1E_000073.mp4'),\n",
       " ('109', 'a4tIKoN_wpg_000196.mp4'),\n",
       " ('110', 'QesChMRyzM0_000840.mp4'),\n",
       " ('111', 'Af9MmG16JH4_000120.mp4'),\n",
       " ('112', '_gjDI3-zVZg_000001.mp4'),\n",
       " ('113', '32uoKYbOUTY_000289.mp4'),\n",
       " ('114', 'DSv6Jce5gd0_000122.mp4'),\n",
       " ('115', 'QCSNE_8guxA_000201.mp4'),\n",
       " ('116', 'JDCvA-fCFkI_000051.mp4'),\n",
       " ('117', 'tIUzRCrZgRM_000406.mp4'),\n",
       " ('118', 'ko3K7gcuXhY_000086.mp4'),\n",
       " ('119', 'd8pu8jhbO_M_000254.mp4'),\n",
       " ('120', 'mdIpS06--dw_000015.mp4'),\n",
       " ('121', 'wRLF_Ru5CL4_000000.mp4'),\n",
       " ('122', 'Tj9Nq2QVkM4_000024.mp4'),\n",
       " ('123', 'DD2i983uNLM_000236.mp4'),\n",
       " ('124', 'MY-bxnrlbYE_000185.mp4'),\n",
       " ('125', '3nWeAosWK40_000020.mp4'),\n",
       " ('126', 'FySSNE-mDRE_000044.mp4'),\n",
       " ('127', 's1M65KQiUps_000040.mp4'),\n",
       " ('128', 'hu7darDCyyc_000015.mp4'),\n",
       " ('129', '61Ropy-fALc_000710.mp4'),\n",
       " ('130', 'Vh4E5JPTMBM_000277.mp4'),\n",
       " ('131', 'f3ipEX-KOoE_000093.mp4'),\n",
       " ('132', '8udh4b3XoGE_000070.mp4'),\n",
       " ('133', 'Y6lkU_RH3mo_000030.mp4'),\n",
       " ('134', '-kYnRodi65g_000073.mp4'),\n",
       " ('135', 'EbbJZkJvvmc_000032.mp4'),\n",
       " ('136', '-VMDgIjlALE_000010.mp4'),\n",
       " ('137', 'G_JwMzRLRNo_000252.mp4'),\n",
       " ('138', 'ROootH-mtEI_000130.mp4'),\n",
       " ('139', '53_-WC8akZw_000000.mp4'),\n",
       " ('140', '72mJdfvCa64_000017.mp4'),\n",
       " ('141', 'Zg5NefrIN6Y_000001.mp4'),\n",
       " ('142', '91LIoOcQO1U_000217.mp4'),\n",
       " ('143', 'PwpbY7Y_KDQ_000000.mp4'),\n",
       " ('144', 'dhJqeZMu8Co_000007.mp4'),\n",
       " ('145', 'znLtiagZsKg_000002.mp4'),\n",
       " ('146', 'ilM8hnM6mlQ_000131.mp4'),\n",
       " ('147', '1ZPJx2GrATw_000044.mp4'),\n",
       " ('148', 'xSqA8Ya22aw_000014.mp4'),\n",
       " ('149', 'S4yfD4wsIxQ_000070.mp4'),\n",
       " ('150', 'd-JTWRVbR_g_000120.mp4'),\n",
       " ('151', '0KImWsM9kCg_000059.mp4'),\n",
       " ('152', 'kcvNmA2LOWM_000020.mp4'),\n",
       " ('153', 'JCq1cp5-UPU_000030.mp4'),\n",
       " ('154', '3fywowLBY4s_000075.mp4'),\n",
       " ('155', 'IiXJj6fzNV8_000338.mp4'),\n",
       " ('156', 'G_oIf6v77k8_000015.mp4'),\n",
       " ('157', 'lQhS2mNYWRU_000012.mp4'),\n",
       " ('158', 'aCb3xlozRAQ_000290.mp4'),\n",
       " ('159', 'wfHeoPDLMaM_000030.mp4'),\n",
       " ('160', 'ey_3HAmyiTY_000100.mp4'),\n",
       " ('161', 'LIU94Xivf9Q_000067.mp4'),\n",
       " ('162', '33VpcPVKS9o_000030.mp4'),\n",
       " ('163', 'YQPYzsPVBZQ_000014.mp4'),\n",
       " ('164', 'OdoaS97pcE4_000020.mp4'),\n",
       " ('165', 'EXr-HeaKURY_000015.mp4'),\n",
       " ('166', 'HR25et9y2cA_000030.mp4'),\n",
       " ('167', 'YnRvyf7Jmt8_000070.mp4'),\n",
       " ('168', '75IBcvAsAPU_000284.mp4'),\n",
       " ('169', 'lL-S5MIKA5U_000046.mp4'),\n",
       " ('170', 'jNzxwdwTjmc_000288.mp4'),\n",
       " ('171', 'Mw5JdL6a2Gk_000030.mp4'),\n",
       " ('172', 'hVkKw4LfhNw_000083.mp4'),\n",
       " ('173', 'hiB46bg1QDo_000030.mp4'),\n",
       " ('174', 'h0uDuWqARkI_000128.mp4'),\n",
       " ('175', 'nMpJjvkMG0M_000421.mp4'),\n",
       " ('176', '-tEllQwKRB4_000039.mp4'),\n",
       " ('177', 'fjbi6dDWkDs_000249.mp4'),\n",
       " ('178', 'g4cIihRfAYo_000045.mp4'),\n",
       " ('179', '12qZJK2QmEM_000078.mp4'),\n",
       " ('180', '44pDQzY9jow_000528.mp4'),\n",
       " ('181', '97yEK1kkQ8w_000054.mp4'),\n",
       " ('182', 'jjbpboFhhm8_000050.mp4'),\n",
       " ('183', 'N2A7lO8iGj8_000300.mp4'),\n",
       " ('184', 'drkBJf6GMTM_000099.mp4'),\n",
       " ('185', 'MdYoe_APBuo_000560.mp4'),\n",
       " ('186', 'fbqre1i9zBk_000009.mp4'),\n",
       " ('187', 'tO6dXVCZpn8_000120.mp4'),\n",
       " ('188', 'UFjjei8s31A_000499.mp4'),\n",
       " ('189', 'kCIC7Yte4pY_000148.mp4'),\n",
       " ('190', '9fhhMaXTraI_000044.mp4'),\n",
       " ('191', 'xJWnW0eqetc_000355.mp4'),\n",
       " ('192', 'J1MPARLPhxs_000016.mp4'),\n",
       " ('193', 'QtNVVddNAT0_000038.mp4'),\n",
       " ('194', 'TCQKBS-Trz0_000330.mp4'),\n",
       " ('195', 'Gl994xApElA_000081.mp4'),\n",
       " ('196', 'ZGJ1HUo2hEo_000000.mp4'),\n",
       " ('197', 'V2SP3dRFUqE_000030.mp4'),\n",
       " ('198', '1WZGUCS0Xwc_000127.mp4'),\n",
       " ('199', 'k-q53FuMLCQ_000117.mp4'),\n",
       " ('200', 'TgR3KiwjYos_000001.mp4'),\n",
       " ('201', '0YPGfDAQZVE_000010.mp4'),\n",
       " ('202', 'g3W9anKIDvQ_000167.mp4'),\n",
       " ('203', 'Yd9WmFNkWDo_000081.mp4'),\n",
       " ('204', 'Y7bZlR_87Cg_000101.mp4'),\n",
       " ('205', '5E5DO4CPoNk_000030.mp4'),\n",
       " ('206', 'pKxm7SSpTCE_000300.mp4'),\n",
       " ('207', 'TnQO23422Vw_000129.mp4'),\n",
       " ('208', 'eKGiQxKPtPo_000001.mp4'),\n",
       " ('209', 'q2RtbP1d7Kg_000195.mp4'),\n",
       " ('210', 'COmq6eCydDg_000181.mp4'),\n",
       " ('211', 'ByWm5qWkUP8_000224.mp4'),\n",
       " ('212', '_M5uFG7TyvM_000016.mp4'),\n",
       " ('213', '2RKb2uLUGDU_000058.mp4'),\n",
       " ('214', 'nkBPOCO5mAc_000005.mp4'),\n",
       " ('215', 'Z2OUI8ejHMs_000030.mp4'),\n",
       " ('216', 'GcM0-ThWxNg_000005.mp4'),\n",
       " ('217', '0AMqHXDdXkA_000005.mp4'),\n",
       " ('218', 'lr4Xu2PoZlQ_000115.mp4'),\n",
       " ('219', 'XytJNk4kwTw_000013.mp4'),\n",
       " ('220', 'Ak7fgTNgFGY_000027.mp4'),\n",
       " ('221', '7fnjZJov31Q_000075.mp4'),\n",
       " ('222', 'q87RaibKZLo_000033.mp4'),\n",
       " ('223', 'DoTXC6mG6Xo_000088.mp4'),\n",
       " ('224', '6Z6PAXmykJs_000049.mp4'),\n",
       " ('225', 'sK9ToGS1uYM_000070.mp4'),\n",
       " ('226', 'UJUCDcLo_z4_000267.mp4'),\n",
       " ('227', 'OfNIyLuiHTU_000015.mp4'),\n",
       " ('228', 'ZTzXbhDe7RE_000589.mp4'),\n",
       " ('229', '9VCwwWLW_b0_000081.mp4'),\n",
       " ('230', 'yPaDIGO7ZR4_000030.mp4'),\n",
       " ('231', 'lkwKeEDrYvU_000018.mp4'),\n",
       " ('232', 'rJgVYOKaSD8_000020.mp4'),\n",
       " ('233', 'o_zb69lrbjs_000057.mp4'),\n",
       " ('234', 'Bf_UqyJx1ws_000041.mp4'),\n",
       " ('235', 'wlVK5fpZ1lQ_000039.mp4'),\n",
       " ('236', 'aj6kdMafoek_000693.mp4'),\n",
       " ('237', 'aoEkspYyvMU_000142.mp4'),\n",
       " ('238', 'RDMwQymRjcs_000073.mp4'),\n",
       " ('239', 'xAN3O5eYCxM_000093.mp4'),\n",
       " ('240', 'QZAajbzw7qo_000011.mp4'),\n",
       " ('241', 'ws5TBXj917E_000176.mp4'),\n",
       " ('242', 'au7QJMAT7bM_000021.mp4'),\n",
       " ('243', 'ReFfQtTTV20_000055.mp4'),\n",
       " ('244', 'PagL5w4mR-Y_000027.mp4'),\n",
       " ('245', 'HWeM5rA8QSc_000000.mp4'),\n",
       " ('246', '21iU_LqLzHc_000049.mp4'),\n",
       " ('247', 'Owx8zDoYMvI_000001.mp4'),\n",
       " ('248', '__929v1Wncc_000171.mp4'),\n",
       " ('249', '4b8jRhb_B64_000074.mp4'),\n",
       " ('250', 'RqH5z32ztF0_000006.mp4'),\n",
       " ('251', 'Ghx0U4Hc1mU_000158.mp4'),\n",
       " ('252', 'DGV-sHosGBk_000004.mp4'),\n",
       " ('253', 'BAAYItPdTHI_000020.mp4'),\n",
       " ('254', 'VOSO8NbL7JY_000030.mp4'),\n",
       " ('255', 'xMGt3aSGrFQ_000007.mp4'),\n",
       " ('256', 'SMXSbe7ESgY_000354.mp4'),\n",
       " ('257', '9FJK9WHeQkg_000361.mp4'),\n",
       " ('258', 'V2xi6dG1HKY_000310.mp4'),\n",
       " ('259', 'Hei85ZhvQhg_000019.mp4'),\n",
       " ('260', 'wGWiCk9tSYE_000107.mp4'),\n",
       " ('261', '26q4l9sxUKY_000036.mp4'),\n",
       " ('262', 'PfMppHvc45E_000062.mp4'),\n",
       " ('263', 'Gqupbytif5Q_000208.mp4'),\n",
       " ('264', '3O3cORK941s_000216.mp4'),\n",
       " ('265', 'zWfWPpMXkGo_000036.mp4'),\n",
       " ('266', '4Mpi-6IPtpk_000279.mp4'),\n",
       " ('267', 'a_EW6DgJMTU_000056.mp4'),\n",
       " ('268', '77qJlTJJd_o_000007.mp4'),\n",
       " ('269', 'F4C6XIsOOtE_000154.mp4'),\n",
       " ('270', 'Z9rjmIB9kOU_000005.mp4'),\n",
       " ('271', 'WuRFzmTaym8_000068.mp4'),\n",
       " ('272', 'aFBp-iNTwBc_000100.mp4'),\n",
       " ('273', 'NDkd66RrY4w_000046.mp4'),\n",
       " ('274', 'fWVqLYH7ucg_000003.mp4'),\n",
       " ('275', '5W7n0GWIBis_000029.mp4'),\n",
       " ('276', 'KiOHk_0DQ_M_000074.mp4'),\n",
       " ('277', 'yQvo1SiaZHI_000150.mp4'),\n",
       " ('278', 'PaOuM5N4StM_000069.mp4'),\n",
       " ('279', 'UzgC8Ehk1Wg_000293.mp4'),\n",
       " ('280', 'U87CRwiTtHY_000005.mp4'),\n",
       " ('281', 'ipVs-QHEdyE_000019.mp4'),\n",
       " ('282', 'KRy1pvJx6d8_000027.mp4'),\n",
       " ('283', 'jRj51JD2JOE_000357.mp4'),\n",
       " ('284', 'Zw2GP0IJINc_000050.mp4'),\n",
       " ('285', '9nSykFaU9rI_000081.mp4'),\n",
       " ('286', 'FYM1SJmUtG4_000006.mp4'),\n",
       " ('287', 'Bx9endi9PmY_000198.mp4'),\n",
       " ('288', 'e8A53FGtlHI_000024.mp4'),\n",
       " ('289', 'cmpLgEpWvJg_000000.mp4'),\n",
       " ('290', '2vNYOSBAIL8_000004.mp4'),\n",
       " ('291', '9TYPGl8ZJO0_000000.mp4'),\n",
       " ('292', 'dIjHjGqdBCA_000106.mp4'),\n",
       " ('293', '6eNjhCEdkkQ_000116.mp4'),\n",
       " ('294', 'Dvoj1QP1HSQ_000109.mp4'),\n",
       " ('295', '4BmwtWwpoE4_000000.mp4'),\n",
       " ('296', 'HkEhaayH8oc_000181.mp4'),\n",
       " ('297', '-AJ-i44WlRc_000273.mp4'),\n",
       " ('298', 'IYmDH6hYZ3Q_000048.mp4'),\n",
       " ('299', 'gwloVRn_l0I_000148.mp4'),\n",
       " ('300', 'rm6kd2LO8FQ_000071.mp4'),\n",
       " ('301', '9VBgs3VhBxA_000015.mp4'),\n",
       " ('302', 'P99CR4y-TYw_000112.mp4'),\n",
       " ('303', 'Xhn1pe7OXeM_000000.mp4'),\n",
       " ('304', '4000w4IwpVs_000062.mp4'),\n",
       " ('305', 'JfdlG5hVUhs_000249.mp4'),\n",
       " ('306', 'Y5uBPcz5ANM_000188.mp4'),\n",
       " ('307', '2jCwy9nplic_000003.mp4'),\n",
       " ('308', 'km_hVyma2vo_000005.mp4')]"
      ]
     },
     "execution_count": 52,
     "metadata": {},
     "output_type": "execute_result"
    }
   ],
   "source": [
    "labels_without_names"
   ]
  },
  {
   "cell_type": "code",
   "execution_count": 12,
   "metadata": {},
   "outputs": [
    {
     "data": {
      "text/plain": [
       "15446"
      ]
     },
     "execution_count": 12,
     "metadata": {},
     "output_type": "execute_result"
    }
   ],
   "source": [
    "import json\n",
    "\n",
    "test_data = json.load(open('/storage/slurm/zverev/datasets/cav-mae/vggsound/metadata/vgg_test_cleaned.json', 'r'))['data']   \n",
    "test_data = list(map(lambda x: f'{x[\"video_id\"]}.jpg', test_data))\n",
    "len(test_data)"
   ]
  },
  {
   "cell_type": "code",
   "execution_count": 4,
   "metadata": {},
   "outputs": [
    {
     "data": {
      "text/plain": [
       "183730"
      ]
     },
     "execution_count": 4,
     "metadata": {},
     "output_type": "execute_result"
    }
   ],
   "source": [
    "import os\n",
    "\n",
    "frames_dir = '/storage/slurm/zverev/datasets/cav-mae/vggsound/sample_frames/frame_0'\n",
    "frame_files = sorted(os.listdir(frames_dir))\n",
    "len(frame_files)\n"
   ]
  },
  {
   "cell_type": "code",
   "execution_count": 13,
   "metadata": {},
   "outputs": [
    {
     "data": {
      "text/plain": [
       "['glLQrEijrKg_000300.jpg',\n",
       " 'LDoXsip0BEQ_000177.jpg',\n",
       " '6jiO0tPLK7U_000090.jpg',\n",
       " 'cRlp5v9BHeE_000011.jpg']"
      ]
     },
     "execution_count": 13,
     "metadata": {},
     "output_type": "execute_result"
    }
   ],
   "source": [
    "test_data[:4]"
   ]
  },
  {
   "cell_type": "code",
   "execution_count": 5,
   "metadata": {},
   "outputs": [
    {
     "data": {
      "text/plain": [
       "['--0PQM4-hqg_000030.jpg',\n",
       " '--56QUhyDQM_000185.jpg',\n",
       " '--5OkAjCI7g_000040.jpg',\n",
       " '--8puiAGLhs_000030.jpg']"
      ]
     },
     "execution_count": 5,
     "metadata": {},
     "output_type": "execute_result"
    }
   ],
   "source": [
    "frame_files[:4]"
   ]
  },
  {
   "cell_type": "code",
   "execution_count": 16,
   "metadata": {},
   "outputs": [
    {
     "data": {
      "text/plain": [
       "15446"
      ]
     },
     "execution_count": 16,
     "metadata": {},
     "output_type": "execute_result"
    }
   ],
   "source": [
    "len(set(test_data).difference(set(frame_files)))"
   ]
  },
  {
   "cell_type": "markdown",
   "metadata": {},
   "source": [
    "# Combine results"
   ]
  },
  {
   "cell_type": "code",
   "execution_count": 12,
   "metadata": {},
   "outputs": [],
   "source": [
    "\n",
    "import torch \n",
    "import numpy as np\n",
    "import src.dataloader as dataloader\n",
    "import pandas as pd\n",
    "import json\n",
    "\n",
    "total_frames = 10 # change if your total frame is different\n",
    "\n",
    "label_csv = pd.read_csv('/storage/slurm/zverev/datasets/cav-mae/vggsound/metadata/class_labels_indices_vgg.csv')\n",
    "test_json = json.load(open('/storage/slurm/zverev/datasets/cav-mae/vggsound/metadata/vgg_test_cleaned.json', 'r'))[\"data\"]\n",
    "\n",
    "label_to_display_name = {\n",
    "    int(data['labels'].split('_')[1]): label_csv.loc[int(data['labels'].split('_')[1]), \"display_name\"]\n",
    "    for data in test_json\n",
    "}\n",
    "\n",
    "# create evaluation csv\n",
    "video_ids = [data['video_id'] for data in test_json]\n",
    "\n",
    "targets = np.load(f'egs/vggsound/exp/testmae02-vggsound-cav-mae-ft-1e-4-2-0.5-1-bs48-ldaFalse-multimodal-fzFalse-h10-a5/target_0.npy')\n",
    "targets = targets.argmax(axis=1)\n",
    "targets = [label_to_display_name[target] for target in targets]\n",
    "\n",
    "\n",
    "modality_predictions = {}\n",
    "for modality in ['audioonly', 'videoonly', 'multimodal']:\n",
    "    target = np.load(f'egs/vggsound/exp/testmae02-vggsound-cav-mae-ft-1e-4-2-0.5-1-bs48-ldaFalse-{modality}-fzFalse-h10-a5/target_0.npy')\n",
    "    target = target.argmax(axis=1)\n",
    "\n",
    "    multiframe_pred = []\n",
    "    for frame in range(total_frames):    \n",
    "        prediction = np.load(f'egs/vggsound/exp/testmae02-vggsound-cav-mae-ft-1e-4-2-0.5-1-bs48-ldaFalse-{modality}-fzFalse-h10-a5/audio_output_{frame}.npy')\n",
    "        multiframe_pred.append(prediction)\n",
    "         \n",
    "    multiframe_pred = np.mean(multiframe_pred, axis=0)\n",
    "\n",
    "    multiframe_top_10 = multiframe_pred.argsort(axis=1)[:, -10:]\n",
    "    multiframe_top_1 = multiframe_top_10[:, -1]\n",
    "\n",
    "    # prepare data fo csv format\n",
    "    correctly_predicted = (multiframe_top_1 == target)\n",
    "    multiframe_top_10  = [\n",
    "        [\n",
    "            label_to_display_name[pred] if multiframe_pred[i,pred] > 1 / 309  else \"\" \n",
    "            for pred in row[::-1]\n",
    "        ] \n",
    "        for (i, row) in enumerate(multiframe_top_10)\n",
    "    ]\n",
    "    \n",
    "    #transpose multiframe_top_10\n",
    "    multiframe_top_10 = list(map(list, zip(*multiframe_top_10)))\n",
    "\n",
    "\n",
    "    # log data for the future\n",
    "    modality_predictions[modality] = {\n",
    "        'correctly_predicted': correctly_predicted,\n",
    "        'multiframe_top_10': multiframe_top_10,\n",
    "    }\n",
    "\n",
    "eval_csv_data = list(zip(\n",
    "    video_ids, targets, \n",
    "    modality_predictions['audioonly']['correctly_predicted'],\n",
    "    modality_predictions['audioonly']['multiframe_top_10'][0],   \n",
    "    modality_predictions['videoonly']['correctly_predicted'],\n",
    "    modality_predictions['videoonly']['multiframe_top_10'][0],\n",
    "    modality_predictions['multimodal']['correctly_predicted'],\n",
    "    modality_predictions['multimodal']['multiframe_top_10'][0],\n",
    "    # top labels\n",
    "    *modality_predictions['audioonly']['multiframe_top_10'],\n",
    "    *modality_predictions['videoonly']['multiframe_top_10'],\n",
    "    *modality_predictions['multimodal']['multiframe_top_10'],\n",
    "))\n",
    "\n",
    "columns = ['video_id', 'label', 'a', 'a_label', 'v', 'v_label', 'av', 'av_label']\n",
    "columns.extend([f'{modality}_top_{i}' for modality in ['a', 'v', 'av'] for i in range(1, 11)])\n",
    "\n",
    "pd.DataFrame(eval_csv_data, columns=columns).to_csv(\n",
    "    './test_evaluation_result.csv',\n",
    "    columns=columns,\n",
    "    index=False,\n",
    ")"
   ]
  },
  {
   "cell_type": "code",
   "execution_count": 4,
   "metadata": {},
   "outputs": [
    {
     "data": {
      "text/plain": [
       "15446"
      ]
     },
     "execution_count": 4,
     "metadata": {},
     "output_type": "execute_result"
    }
   ],
   "source": [
    "len(modality_predictions['audioonly']['multiframe_top_20'])"
   ]
  },
  {
   "cell_type": "code",
   "execution_count": 26,
   "metadata": {},
   "outputs": [],
   "source": [
    "multiframe_pred = []\n",
    "for frame in range(total_frames):    \n",
    "    prediction = np.load(f'egs/vggsound/exp/testmae02-vggsound-cav-mae-ft-1e-4-2-0.5-1-bs48-ldaFalse-{modality}-fzFalse-h10-a5/audio_output_{frame}.npy')\n",
    "    multiframe_pred.append(prediction)\n",
    "        \n",
    "multiframe_pred = np.mean(multiframe_pred, axis=0)\n",
    "multiframe_predd = multiframe_pred.argsort(axis=1)[:, -20:]"
   ]
  },
  {
   "cell_type": "code",
   "execution_count": 32,
   "metadata": {},
   "outputs": [
    {
     "data": {
      "text/plain": [
       "array([110,  47,  33, 193, 224, 287,  80,  52, 130, 248, 109, 198,  14,\n",
       "       201, 228, 242, 126, 156, 113, 223])"
      ]
     },
     "execution_count": 32,
     "metadata": {},
     "output_type": "execute_result"
    }
   ],
   "source": [
    "multiframe_predd[0][::-1]"
   ]
  },
  {
   "cell_type": "code",
   "execution_count": 22,
   "metadata": {},
   "outputs": [
    {
     "data": {
      "text/plain": [
       "6.2361694e-05"
      ]
     },
     "execution_count": 22,
     "metadata": {},
     "output_type": "execute_result"
    }
   ],
   "source": [
    "multiframe_pred[0,308]"
   ]
  },
  {
   "cell_type": "markdown",
   "metadata": {},
   "source": [
    "# Histograms"
   ]
  },
  {
   "cell_type": "code",
   "execution_count": 2,
   "metadata": {},
   "outputs": [],
   "source": [
    "import torch \n",
    "import numpy as np\n",
    "import src.dataloader as dataloader\n",
    "import pandas as pd\n",
    "import json\n",
    "\n",
    "total_frames = 10 # change if your total frame is different\n",
    "\n",
    "label_csv = pd.read_csv('/storage/slurm/zverev/datasets/cav-mae/vggsound/metadata/class_labels_indices_vgg.csv')\n",
    "test_json = json.load(open('/storage/slurm/zverev/datasets/cav-mae/vggsound/metadata/vgg_test_cleaned.json', 'r'))[\"data\"]\n",
    "\n",
    "label_to_display_name = {\n",
    "    int(data['labels'].split('_')[1]): label_csv.loc[int(data['labels'].split('_')[1]), \"display_name\"]\n",
    "    for data in test_json\n",
    "}\n",
    "\n",
    "# create evaluation csv\n",
    "video_ids = [data['video_id'] for data in test_json]\n",
    "\n",
    "targets = np.load(f'egs/vggsound/exp/testmae02-vggsound-cav-mae-ft-1e-4-2-0.5-1-bs48-ldaFalse-multimodal-fzFalse-h10-a5/target_0.npy')\n",
    "targets = targets.argmax(axis=1)\n",
    "targets = [label_to_display_name[target] for target in targets]\n",
    "\n",
    "\n",
    "modality_predictions = {}\n",
    "for modality in ['audioonly', 'videoonly', 'multimodal']:\n",
    "    target = np.load(f'egs/vggsound/exp/testmae02-vggsound-cav-mae-ft-1e-4-2-0.5-1-bs48-ldaFalse-{modality}-fzFalse-h10-a5/target_0.npy')\n",
    "    target = target.argmax(axis=1)\n",
    "\n",
    "    multiframe_pred = []\n",
    "    for frame in range(total_frames):    \n",
    "        prediction = np.load(f'egs/vggsound/exp/testmae02-vggsound-cav-mae-ft-1e-4-2-0.5-1-bs48-ldaFalse-{modality}-fzFalse-h10-a5/audio_output_{frame}.npy')\n",
    "        multiframe_pred.append(prediction)\n",
    "         \n",
    "    multiframe_pred = np.mean(multiframe_pred, axis=0)\n",
    "\n",
    "    multiframe_top_10 = multiframe_pred.argsort(axis=1)[:, -20:]\n",
    "    multiframe_top_1 = multiframe_top_10[:, -1]\n",
    "\n",
    "    break\n"
   ]
  },
  {
   "cell_type": "code",
   "execution_count": 8,
   "metadata": {},
   "outputs": [
    {
     "data": {
      "text/plain": [
       "(15446, 309)"
      ]
     },
     "execution_count": 8,
     "metadata": {},
     "output_type": "execute_result"
    }
   ],
   "source": [
    "multiframe_pred_softmax.shape"
   ]
  },
  {
   "cell_type": "code",
   "execution_count": 15,
   "metadata": {},
   "outputs": [
    {
     "data": {
      "image/png": "[encoded data removed]",
      "text/plain": [
       "<Figure size 1000x600 with 1 Axes>"
      ]
     },
     "metadata": {},
     "output_type": "display_data"
    }
   ],
   "source": [
    "from scipy.special import softmax\n",
    "import matplotlib.pyplot as plt\n",
    "\n",
    "multiframe_pred_softmax = softmax(multiframe_pred, axis=1)\n",
    "# multiframe_pred_softmax[multiframe_pred_softmax < 1 / 309] = 0\n",
    "# Plot probability distribution for first sample\n",
    "plt.figure(figsize=(10, 6))\n",
    "plt.bar(range(len(multiframe_pred_softmax[10])), multiframe_pred_softmax[10])\n",
    "plt.axhline(y=1/309, color='red', linestyle='--', label='Random Probability')\n",
    "plt.xlabel('Class Index')\n",
    "plt.ylabel('Probability')\n",
    "plt.title('Softmax Probability Distribution')\n",
    "plt.legend()\n",
    "plt.show()"
   ]
  },
  {
   "cell_type": "code",
   "execution_count": null,
   "metadata": {},
   "outputs": [],
   "source": [
    "df_val = pd.read_csv('./test_evaluation_result.csv')\n",
    "\n",
    "df_val.head()"
   ]
  }
 ],
 "metadata": {
  "kernelspec": {
   "display_name": "cav-mae",
   "language": "python",
   "name": "python3"
  },
  "language_info": {
   "codemirror_mode": {
    "name": "ipython",
    "version": 3
   },
   "file_extension": ".py",
   "mimetype": "text/x-python",
   "name": "python",
   "nbconvert_exporter": "python",
   "pygments_lexer": "ipython3",
   "version": "3.10.15"
  }
 },
 "nbformat": 4,
 "nbformat_minor": 2
}
